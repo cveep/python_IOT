{
 "cells": [
  {
   "cell_type": "markdown",
   "metadata": {},
   "source": [
    "### Question 1"
   ]
  },
  {
   "cell_type": "markdown",
   "metadata": {},
   "source": [
    "Inflation is decline in purchasing power of your money over time. Annual inflation in these United States has been running at around 3% historically. Countries outside the U.S. might have lower inflation but that's an exception. More than likely, inflation in the rest of the world runs at a much higher clip than in the U.S.\n",
    "\n",
    "What's the impact of inflation? Just look at these 1953 McDonald's price menu and compare that to what you see today."
   ]
  },
  {
   "cell_type": "markdown",
   "metadata": {},
   "source": [
    "![McDonald's 1953 prices](McDonalds-1953.png)"
   ]
  },
  {
   "cell_type": "markdown",
   "metadata": {},
   "source": [
    "So now that you know what it is, build a preset value calculator (write a function) called <b>pv_calc</b> that takes in 3 inputs; <b>future_value</b> of a currency, <b>inflation_rate</b> and <b>years</b> to estimate what the purchasing power of some money out in the future is today. This calculator should return a list of all the values that starts with the current year to some year out in the future.\n",
    "\n",
    "Hint: Refer to the compound interest formula. Usage of list comprehension is recommended where and when necessary. You might have to return a reversed list."
   ]
  },
  {
   "cell_type": "markdown",
   "metadata": {},
   "source": [
    "This would be a typical output of present values for years 1 to 10 if you were to assume a future value of 100 dollars 10 years from now at 5% inflation rate discounted to all the subsequent years to present. That means if it takes 64 dollars to purchase something today, it would take 67 dollars a year from now, 71 dollars 2 years from now and so on until it'll take 100 dollars 10 years from now."
   ]
  },
  {
   "cell_type": "code",
   "execution_count": 54,
   "metadata": {},
   "outputs": [
    {
     "name": "stdout",
     "output_type": "stream",
     "text": [
      "[64.46089162177971, 67.6839362028687, 71.06813301301213, 74.62153966366274, 78.35261664684589, 82.27024747918819, 86.3837598531476, 90.70294784580499, 95.23809523809524, 100.0]\n"
     ]
    }
   ],
   "source": [
    "def pv_calc(future_value, inflation_rate, years):\n",
    "    fv = []\n",
    "    for i in range(years - 1, 0, -1):\n",
    "        cv = (100 / (1 + inflation_rate) ** i )\n",
    "        fv.append(cv)\n",
    "    fv.append(100 / (1 + 0.00) ** i )\n",
    "    return(fv)\n",
    "print(pv_calc(100,0.05,10))"
   ]
  },
  {
   "cell_type": "markdown",
   "metadata": {},
   "source": [
    "![HW output](HW-output.PNG)"
   ]
  },
  {
   "cell_type": "markdown",
   "metadata": {},
   "source": [
    "### Question 2"
   ]
  },
  {
   "cell_type": "markdown",
   "metadata": {},
   "source": [
    "In one line of code, create a list containing all words in the string <b>'The Rule of 72 is a great way to estimate how your investment will grow over time!!!'</b> after making them lower case and eliminating any punctuations at the end. "
   ]
  },
  {
   "cell_type": "code",
   "execution_count": 42,
   "metadata": {},
   "outputs": [
    {
     "name": "stdout",
     "output_type": "stream",
     "text": [
      "['The', 'Rule', 'of', '72', 'is', 'a', 'great', 'way', 'to', 'estimate', 'how', 'your', 'investment', 'will', 'grow', 'over', 'time!!!']\n"
     ]
    }
   ],
   "source": [
    "print(list(\"The Rule of 72 is a great way to estimate how your investment will grow over time!!!\".split(\" \")))"
   ]
  }
 ],
 "metadata": {
  "kernelspec": {
   "display_name": "Python 3",
   "language": "python",
   "name": "python3"
  },
  "language_info": {
   "codemirror_mode": {
    "name": "ipython",
    "version": 3
   },
   "file_extension": ".py",
   "mimetype": "text/x-python",
   "name": "python",
   "nbconvert_exporter": "python",
   "pygments_lexer": "ipython3",
   "version": "3.6.5"
  }
 },
 "nbformat": 4,
 "nbformat_minor": 1
}
